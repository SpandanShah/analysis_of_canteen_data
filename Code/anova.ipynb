{
 "cells": [
  {
   "cell_type": "code",
   "execution_count": 57,
   "metadata": {},
   "outputs": [],
   "source": [
    "import pandas as pd\n",
    "import numpy as np\n",
    "import matplotlib.pyplot as plt\n",
    "import seaborn as sns\n",
    "import statsmodels.api as sm\n",
    "import statsmodels.formula.api as ols\n"
   ]
  },
  {
   "cell_type": "code",
   "execution_count": 58,
   "metadata": {},
   "outputs": [
    {
     "name": "stdout",
     "output_type": "stream",
     "text": [
      "F-statistic: 10.061014553770226\n",
      "p-value: 6.095866646581368e-16\n",
      "Reject the null hypothesis: There is a significant difference in mean sales between weekdays and weekends for food subcategories.\n"
     ]
    }
   ],
   "source": [
    "import pandas as pd\n",
    "from scipy.stats import f_oneway\n",
    "\n",
    "# Load your data into a pandas DataFrame\n",
    "df = pd.read_csv('../Data/Group_data/weekdays_weekend_aug.csv')\n",
    "df1 = pd.read_csv('../Data/Group_data/weekdays_weekend_sep.csv')\n",
    "df2 = pd.read_csv('../Data/Group_data/weekdays_weekend_oct.csv')\n",
    "df3 = pd.read_csv('../Data/Group_data/weekdays_weekend_nov.csv')\n",
    "df4 = pd.read_csv('../Data/Group_data/weekdays_weekend_dec.csv')\n",
    "df5 = pd.read_csv('../Data/Group_data/weekdays_weekend_jan.csv')\n",
    "\n",
    "# Extract the relevant columns for ANOVA analysis\n",
    "food_subcategory = df['Item name']\n",
    "sales_weekdays_month1 = df['Weekdays']\n",
    "sales_weekends_month1 = df['Weekend']\n",
    "sales_weekdays_month2 = df1['Weekdays']\n",
    "sales_weekends_month2 = df1['Weekend']\n",
    "sales_weekdays_month3 = df2['Weekdays']\n",
    "sales_weekends_month3 = df2['Weekend']\n",
    "sales_weekdays_month4 = df3['Weekdays']\n",
    "sales_weekends_month4 = df3['Weekend']\n",
    "sales_weekdays_month5 = df4['Weekdays']\n",
    "sales_weekends_month5 = df4['Weekend']\n",
    "sales_weekdays_month6 = df5['Weekdays']\n",
    "sales_weekends_month6 = df5['Weekend']\n",
    "\n",
    "# Perform ANOVA using scipy.stats.f_oneway\n",
    "f_stat, p_value = f_oneway(sales_weekdays_month1, sales_weekends_month1, sales_weekdays_month2, sales_weekends_month2, sales_weekdays_month3, sales_weekends_month3, sales_weekdays_month4, sales_weekends_month4, sales_weekdays_month5, sales_weekends_month5, sales_weekdays_month6, sales_weekends_month6)\n",
    "\n",
    "\n",
    "# Print the ANOVA results\n",
    "print(\"F-statistic:\", f_stat)\n",
    "print(\"p-value:\", p_value)\n",
    "\n",
    "# Compare p-value with significance level (e.g., 0.05)\n",
    "if p_value < 0.05:\n",
    "    print(\"Reject the null hypothesis: There is a significant difference in mean sales between weekdays and weekends for food subcategories.\")\n",
    "else:\n",
    "    print(\"Fail to reject the null hypothesis: There is no significant difference in mean sales between weekdays and weekends for food subcategories.\")"
   ]
  }
 ],
 "metadata": {
  "kernelspec": {
   "display_name": "Python 3",
   "language": "python",
   "name": "python3"
  },
  "language_info": {
   "codemirror_mode": {
    "name": "ipython",
    "version": 3
   },
   "file_extension": ".py",
   "mimetype": "text/x-python",
   "name": "python",
   "nbconvert_exporter": "python",
   "pygments_lexer": "ipython3",
   "version": "3.10.11"
  },
  "orig_nbformat": 4
 },
 "nbformat": 4,
 "nbformat_minor": 2
}
