{
 "cells": [
  {
   "cell_type": "code",
   "execution_count": 76,
   "metadata": {},
   "outputs": [],
   "source": [
    "# open csv file\n",
    "import pandas as pd\n",
    "import numpy as np\n",
    "import matplotlib.pyplot as plt\n",
    "import seaborn as sns"
   ]
  },
  {
   "cell_type": "code",
   "execution_count": 77,
   "metadata": {},
   "outputs": [],
   "source": [
    "df = pd.read_csv('../Data/Final_Data/Labels1.csv')\n",
    "# df"
   ]
  },
  {
   "cell_type": "code",
   "execution_count": 78,
   "metadata": {},
   "outputs": [
    {
     "data": {
      "text/html": [
       "<div>\n",
       "<style scoped>\n",
       "    .dataframe tbody tr th:only-of-type {\n",
       "        vertical-align: middle;\n",
       "    }\n",
       "\n",
       "    .dataframe tbody tr th {\n",
       "        vertical-align: top;\n",
       "    }\n",
       "\n",
       "    .dataframe thead th {\n",
       "        text-align: right;\n",
       "    }\n",
       "</style>\n",
       "<table border=\"1\" class=\"dataframe\">\n",
       "  <thead>\n",
       "    <tr style=\"text-align: right;\">\n",
       "      <th></th>\n",
       "      <th>Item name</th>\n",
       "      <th>Count</th>\n",
       "    </tr>\n",
       "  </thead>\n",
       "  <tbody>\n",
       "    <tr>\n",
       "      <th>0</th>\n",
       "      <td>Glass of Coke</td>\n",
       "      <td>30</td>\n",
       "    </tr>\n",
       "    <tr>\n",
       "      <th>1</th>\n",
       "      <td>French Fries Peri Peri</td>\n",
       "      <td>26</td>\n",
       "    </tr>\n",
       "    <tr>\n",
       "      <th>2</th>\n",
       "      <td>Cottage Cheese, Seasoned Veggies, Baked Roll</td>\n",
       "      <td>25</td>\n",
       "    </tr>\n",
       "    <tr>\n",
       "      <th>3</th>\n",
       "      <td>Thumbs Up  Can - 300 ml</td>\n",
       "      <td>24</td>\n",
       "    </tr>\n",
       "    <tr>\n",
       "      <th>4</th>\n",
       "      <td>?It?s Corny? Corn Cheese Sandwich</td>\n",
       "      <td>22</td>\n",
       "    </tr>\n",
       "    <tr>\n",
       "      <th>...</th>\n",
       "      <td>...</td>\n",
       "      <td>...</td>\n",
       "    </tr>\n",
       "    <tr>\n",
       "      <th>63</th>\n",
       "      <td>Red Bull Sugarfree</td>\n",
       "      <td>1</td>\n",
       "    </tr>\n",
       "    <tr>\n",
       "      <th>64</th>\n",
       "      <td>The Big B</td>\n",
       "      <td>1</td>\n",
       "    </tr>\n",
       "    <tr>\n",
       "      <th>65</th>\n",
       "      <td>Swiss Milk Chocolate Cookies</td>\n",
       "      <td>1</td>\n",
       "    </tr>\n",
       "    <tr>\n",
       "      <th>66</th>\n",
       "      <td>Iced Coffee(Black hot Coffee With Ice)</td>\n",
       "      <td>1</td>\n",
       "    </tr>\n",
       "    <tr>\n",
       "      <th>67</th>\n",
       "      <td>Double Eye Opener</td>\n",
       "      <td>1</td>\n",
       "    </tr>\n",
       "  </tbody>\n",
       "</table>\n",
       "<p>68 rows × 2 columns</p>\n",
       "</div>"
      ],
      "text/plain": [
       "                                       Item name  Count\n",
       "0                                  Glass of Coke     30\n",
       "1                         French Fries Peri Peri     26\n",
       "2   Cottage Cheese, Seasoned Veggies, Baked Roll     25\n",
       "3                        Thumbs Up  Can - 300 ml     24\n",
       "4              ?It?s Corny? Corn Cheese Sandwich     22\n",
       "..                                           ...    ...\n",
       "63                            Red Bull Sugarfree      1\n",
       "64                                     The Big B      1\n",
       "65                  Swiss Milk Chocolate Cookies      1\n",
       "66        Iced Coffee(Black hot Coffee With Ice)      1\n",
       "67                             Double Eye Opener      1\n",
       "\n",
       "[68 rows x 2 columns]"
      ]
     },
     "execution_count": 78,
     "metadata": {},
     "output_type": "execute_result"
    }
   ],
   "source": [
    "# find same data from weekdasy_Aug and  save it in different file\n",
    "df1 = pd.read_csv('../Data/Final_Data/weekdays_Jan.csv')\n",
    "df1\n",
    "df2 = pd.read_csv('../Data/Final_Data/weekend_Jan.csv')\n",
    "df2"
   ]
  },
  {
   "cell_type": "code",
   "execution_count": 79,
   "metadata": {},
   "outputs": [],
   "source": [
    "# find same items in both the file\n",
    "df1 = df1[df1['Item name'].isin(df['Item name'])]\n",
    "df1\n",
    "\n",
    "df2 = df2[df2['Item name'].isin(df['Item name'])]\n",
    "df2\n",
    "\n",
    "# group by df1 and df2 by Count\n",
    "df1 = df1.groupby('Item name')['Count'].sum()\n",
    "df1\n",
    "\n",
    "df2 = df2.groupby('Item name')['Count'].sum()\n",
    "df2\n",
    "\n",
    "# merge both the dataframes \n",
    "df3 = pd.merge(df1, df2, on='Item name')\n",
    "df3\n",
    "\n",
    "# change heading of count_x an xount_y\n",
    "df3 = df3.rename(columns={'Count_x': 'Weekdays', 'Count_y': 'Weekend'})\n",
    "\n"
   ]
  },
  {
   "cell_type": "code",
   "execution_count": 80,
   "metadata": {},
   "outputs": [],
   "source": [
    "# save in file\n",
    "df3.to_csv('../Data/Group_data/weekdays_weekend_jan.csv')   "
   ]
  }
 ],
 "metadata": {
  "kernelspec": {
   "display_name": "Python 3",
   "language": "python",
   "name": "python3"
  },
  "language_info": {
   "codemirror_mode": {
    "name": "ipython",
    "version": 3
   },
   "file_extension": ".py",
   "mimetype": "text/x-python",
   "name": "python",
   "nbconvert_exporter": "python",
   "pygments_lexer": "ipython3",
   "version": "3.10.11"
  },
  "orig_nbformat": 4
 },
 "nbformat": 4,
 "nbformat_minor": 2
}
