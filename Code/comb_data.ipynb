{
 "cells": [
  {
   "cell_type": "code",
   "execution_count": 29,
   "metadata": {},
   "outputs": [],
   "source": [
    "import numpy as np \n",
    "import pandas as pd\n",
    "import matplotlib.pyplot as plt\n",
    "import seaborn as sns"
   ]
  },
  {
   "cell_type": "code",
   "execution_count": 30,
   "metadata": {},
   "outputs": [],
   "source": [
    "# open file \n",
    "df6 = pd.read_csv('../Data/Group_data/weekdays_weekend_aug.csv')\n",
    "df1= pd.read_csv('../Data/Group_data/weekdays_weekend_sep.csv')\n",
    "df2= pd.read_csv('../Data/Group_data/weekdays_weekend_oct.csv')\n",
    "df3= pd.read_csv('../Data/Group_data/weekdays_weekend_nov.csv')\n",
    "df4= pd.read_csv('../Data/Group_data/weekdays_weekend_dec.csv')\n",
    "df5= pd.read_csv('../Data/Group_data/weekdays_weekend_jan.csv')"
   ]
  },
  {
   "cell_type": "code",
   "execution_count": null,
   "metadata": {},
   "outputs": [],
   "source": [
    "# combine all data by Item name\n",
    "\n",
    "df = pd.concat([df6,df1,df2,df3,df4,df5],axis=0)\n",
    "df = df.reset_index(drop=True)\n",
    "# save in file\n",
    "df.to_csv('../Data/Group_data/weekdays_weekend_1.csv',index=False)\n"
   ]
  },
  {
   "cell_type": "code",
   "execution_count": null,
   "metadata": {},
   "outputs": [],
   "source": [
    "# merge duplicate\n",
    "df = df.groupby(['Item name']).sum()\n",
    "df = df.reset_index()\n"
   ]
  },
  {
   "cell_type": "code",
   "execution_count": null,
   "metadata": {},
   "outputs": [
    {
     "data": {
      "text/plain": [
       "(38, 3)"
      ]
     },
     "execution_count": 26,
     "metadata": {},
     "output_type": "execute_result"
    }
   ],
   "source": [
    "df.shape"
   ]
  },
  {
   "cell_type": "code",
   "execution_count": null,
   "metadata": {},
   "outputs": [],
   "source": [
    "# save in csv\n",
    "df.to_csv('../Data/Group_data/weekdays_weekend.csv',index=False)"
   ]
  }
 ],
 "metadata": {
  "kernelspec": {
   "display_name": "Python 3",
   "language": "python",
   "name": "python3"
  },
  "language_info": {
   "codemirror_mode": {
    "name": "ipython",
    "version": 3
   },
   "file_extension": ".py",
   "mimetype": "text/x-python",
   "name": "python",
   "nbconvert_exporter": "python",
   "pygments_lexer": "ipython3",
   "version": "3.10.11"
  },
  "orig_nbformat": 4
 },
 "nbformat": 4,
 "nbformat_minor": 2
}
